{
 "cells": [
  {
   "cell_type": "markdown",
   "id": "5777aa73-aabe-4b88-8bf3-2f0aeaeacfde",
   "metadata": {},
   "source": [
    "# Data cleaning and preparing "
   ]
  },
  {
   "cell_type": "code",
   "execution_count": 2,
   "id": "4755e82b-675d-443d-8494-e0ed58ca90c0",
   "metadata": {},
   "outputs": [],
   "source": [
    "import pandas as pd"
   ]
  },
  {
   "cell_type": "code",
   "execution_count": 3,
   "id": "d4d5f772-8a89-4e5f-acc6-59a3905add72",
   "metadata": {},
   "outputs": [
    {
     "data": {
      "text/html": [
       "<div>\n",
       "<style scoped>\n",
       "    .dataframe tbody tr th:only-of-type {\n",
       "        vertical-align: middle;\n",
       "    }\n",
       "\n",
       "    .dataframe tbody tr th {\n",
       "        vertical-align: top;\n",
       "    }\n",
       "\n",
       "    .dataframe thead th {\n",
       "        text-align: right;\n",
       "    }\n",
       "</style>\n",
       "<table border=\"1\" class=\"dataframe\">\n",
       "  <thead>\n",
       "    <tr style=\"text-align: right;\">\n",
       "      <th></th>\n",
       "      <th>Unnamed: 0</th>\n",
       "      <th>X_ray_image_name</th>\n",
       "      <th>Label</th>\n",
       "      <th>Dataset_type</th>\n",
       "      <th>Label_2_Virus_category</th>\n",
       "      <th>Label_1_Virus_category</th>\n",
       "    </tr>\n",
       "  </thead>\n",
       "  <tbody>\n",
       "    <tr>\n",
       "      <th>0</th>\n",
       "      <td>0</td>\n",
       "      <td>IM-0128-0001.jpeg</td>\n",
       "      <td>Normal</td>\n",
       "      <td>TRAIN</td>\n",
       "      <td>NaN</td>\n",
       "      <td>NaN</td>\n",
       "    </tr>\n",
       "    <tr>\n",
       "      <th>1</th>\n",
       "      <td>1</td>\n",
       "      <td>IM-0127-0001.jpeg</td>\n",
       "      <td>Normal</td>\n",
       "      <td>TRAIN</td>\n",
       "      <td>NaN</td>\n",
       "      <td>NaN</td>\n",
       "    </tr>\n",
       "    <tr>\n",
       "      <th>2</th>\n",
       "      <td>2</td>\n",
       "      <td>IM-0125-0001.jpeg</td>\n",
       "      <td>Normal</td>\n",
       "      <td>TRAIN</td>\n",
       "      <td>NaN</td>\n",
       "      <td>NaN</td>\n",
       "    </tr>\n",
       "    <tr>\n",
       "      <th>3</th>\n",
       "      <td>3</td>\n",
       "      <td>IM-0122-0001.jpeg</td>\n",
       "      <td>Normal</td>\n",
       "      <td>TRAIN</td>\n",
       "      <td>NaN</td>\n",
       "      <td>NaN</td>\n",
       "    </tr>\n",
       "    <tr>\n",
       "      <th>4</th>\n",
       "      <td>4</td>\n",
       "      <td>IM-0119-0001.jpeg</td>\n",
       "      <td>Normal</td>\n",
       "      <td>TRAIN</td>\n",
       "      <td>NaN</td>\n",
       "      <td>NaN</td>\n",
       "    </tr>\n",
       "    <tr>\n",
       "      <th>...</th>\n",
       "      <td>...</td>\n",
       "      <td>...</td>\n",
       "      <td>...</td>\n",
       "      <td>...</td>\n",
       "      <td>...</td>\n",
       "      <td>...</td>\n",
       "    </tr>\n",
       "    <tr>\n",
       "      <th>5905</th>\n",
       "      <td>5928</td>\n",
       "      <td>person1637_virus_2834.jpeg</td>\n",
       "      <td>Pnemonia</td>\n",
       "      <td>TEST</td>\n",
       "      <td>NaN</td>\n",
       "      <td>Virus</td>\n",
       "    </tr>\n",
       "    <tr>\n",
       "      <th>5906</th>\n",
       "      <td>5929</td>\n",
       "      <td>person1635_virus_2831.jpeg</td>\n",
       "      <td>Pnemonia</td>\n",
       "      <td>TEST</td>\n",
       "      <td>NaN</td>\n",
       "      <td>Virus</td>\n",
       "    </tr>\n",
       "    <tr>\n",
       "      <th>5907</th>\n",
       "      <td>5930</td>\n",
       "      <td>person1634_virus_2830.jpeg</td>\n",
       "      <td>Pnemonia</td>\n",
       "      <td>TEST</td>\n",
       "      <td>NaN</td>\n",
       "      <td>Virus</td>\n",
       "    </tr>\n",
       "    <tr>\n",
       "      <th>5908</th>\n",
       "      <td>5931</td>\n",
       "      <td>person1633_virus_2829.jpeg</td>\n",
       "      <td>Pnemonia</td>\n",
       "      <td>TEST</td>\n",
       "      <td>NaN</td>\n",
       "      <td>Virus</td>\n",
       "    </tr>\n",
       "    <tr>\n",
       "      <th>5909</th>\n",
       "      <td>5932</td>\n",
       "      <td>person1632_virus_2827.jpeg</td>\n",
       "      <td>Pnemonia</td>\n",
       "      <td>TEST</td>\n",
       "      <td>NaN</td>\n",
       "      <td>Virus</td>\n",
       "    </tr>\n",
       "  </tbody>\n",
       "</table>\n",
       "<p>5910 rows × 6 columns</p>\n",
       "</div>"
      ],
      "text/plain": [
       "      Unnamed: 0            X_ray_image_name     Label Dataset_type  \\\n",
       "0              0           IM-0128-0001.jpeg    Normal        TRAIN   \n",
       "1              1           IM-0127-0001.jpeg    Normal        TRAIN   \n",
       "2              2           IM-0125-0001.jpeg    Normal        TRAIN   \n",
       "3              3           IM-0122-0001.jpeg    Normal        TRAIN   \n",
       "4              4           IM-0119-0001.jpeg    Normal        TRAIN   \n",
       "...          ...                         ...       ...          ...   \n",
       "5905        5928  person1637_virus_2834.jpeg  Pnemonia         TEST   \n",
       "5906        5929  person1635_virus_2831.jpeg  Pnemonia         TEST   \n",
       "5907        5930  person1634_virus_2830.jpeg  Pnemonia         TEST   \n",
       "5908        5931  person1633_virus_2829.jpeg  Pnemonia         TEST   \n",
       "5909        5932  person1632_virus_2827.jpeg  Pnemonia         TEST   \n",
       "\n",
       "     Label_2_Virus_category Label_1_Virus_category  \n",
       "0                       NaN                    NaN  \n",
       "1                       NaN                    NaN  \n",
       "2                       NaN                    NaN  \n",
       "3                       NaN                    NaN  \n",
       "4                       NaN                    NaN  \n",
       "...                     ...                    ...  \n",
       "5905                    NaN                  Virus  \n",
       "5906                    NaN                  Virus  \n",
       "5907                    NaN                  Virus  \n",
       "5908                    NaN                  Virus  \n",
       "5909                    NaN                  Virus  \n",
       "\n",
       "[5910 rows x 6 columns]"
      ]
     },
     "execution_count": 3,
     "metadata": {},
     "output_type": "execute_result"
    }
   ],
   "source": [
    "df1=pd.read_csv('Chest_xray_Corona_Metadata.csv')\n",
    "df1"
   ]
  },
  {
   "cell_type": "code",
   "execution_count": 4,
   "id": "98222f64-4499-42ba-aa2f-ba9e689758b1",
   "metadata": {},
   "outputs": [
    {
     "name": "stdout",
     "output_type": "stream",
     "text": [
      "Shape of train data : (5286, 6)\n",
      "Shape of test data : (624, 6)\n"
     ]
    },
    {
     "data": {
      "text/html": [
       "<div>\n",
       "<style scoped>\n",
       "    .dataframe tbody tr th:only-of-type {\n",
       "        vertical-align: middle;\n",
       "    }\n",
       "\n",
       "    .dataframe tbody tr th {\n",
       "        vertical-align: top;\n",
       "    }\n",
       "\n",
       "    .dataframe thead th {\n",
       "        text-align: right;\n",
       "    }\n",
       "</style>\n",
       "<table border=\"1\" class=\"dataframe\">\n",
       "  <thead>\n",
       "    <tr style=\"text-align: right;\">\n",
       "      <th></th>\n",
       "      <th>Unnamed: 0</th>\n",
       "      <th>X_ray_image_name</th>\n",
       "      <th>Label</th>\n",
       "      <th>Dataset_type</th>\n",
       "      <th>Label_2_Virus_category</th>\n",
       "      <th>Label_1_Virus_category</th>\n",
       "    </tr>\n",
       "  </thead>\n",
       "  <tbody>\n",
       "    <tr>\n",
       "      <th>5337</th>\n",
       "      <td>5360</td>\n",
       "      <td>IM-0087-0001.jpeg</td>\n",
       "      <td>Normal</td>\n",
       "      <td>TEST</td>\n",
       "      <td>NaN</td>\n",
       "      <td>NaN</td>\n",
       "    </tr>\n",
       "    <tr>\n",
       "      <th>5423</th>\n",
       "      <td>5446</td>\n",
       "      <td>NORMAL2-IM-0275-0001.jpeg</td>\n",
       "      <td>Normal</td>\n",
       "      <td>TEST</td>\n",
       "      <td>NaN</td>\n",
       "      <td>NaN</td>\n",
       "    </tr>\n",
       "    <tr>\n",
       "      <th>5681</th>\n",
       "      <td>5704</td>\n",
       "      <td>person111_bacteria_533.jpeg</td>\n",
       "      <td>Pnemonia</td>\n",
       "      <td>TEST</td>\n",
       "      <td>NaN</td>\n",
       "      <td>bacteria</td>\n",
       "    </tr>\n",
       "    <tr>\n",
       "      <th>5764</th>\n",
       "      <td>5787</td>\n",
       "      <td>person81_bacteria_395.jpeg</td>\n",
       "      <td>Pnemonia</td>\n",
       "      <td>TEST</td>\n",
       "      <td>NaN</td>\n",
       "      <td>bacteria</td>\n",
       "    </tr>\n",
       "    <tr>\n",
       "      <th>5606</th>\n",
       "      <td>5629</td>\n",
       "      <td>person136_bacteria_648.jpeg</td>\n",
       "      <td>Pnemonia</td>\n",
       "      <td>TEST</td>\n",
       "      <td>NaN</td>\n",
       "      <td>bacteria</td>\n",
       "    </tr>\n",
       "    <tr>\n",
       "      <th>5296</th>\n",
       "      <td>5319</td>\n",
       "      <td>IM-0009-0001.jpeg</td>\n",
       "      <td>Normal</td>\n",
       "      <td>TEST</td>\n",
       "      <td>NaN</td>\n",
       "      <td>NaN</td>\n",
       "    </tr>\n",
       "    <tr>\n",
       "      <th>5813</th>\n",
       "      <td>5836</td>\n",
       "      <td>person44_virus_93.jpeg</td>\n",
       "      <td>Pnemonia</td>\n",
       "      <td>TEST</td>\n",
       "      <td>NaN</td>\n",
       "      <td>Virus</td>\n",
       "    </tr>\n",
       "    <tr>\n",
       "      <th>5870</th>\n",
       "      <td>5893</td>\n",
       "      <td>person1676_virus_2892.jpeg</td>\n",
       "      <td>Pnemonia</td>\n",
       "      <td>TEST</td>\n",
       "      <td>NaN</td>\n",
       "      <td>Virus</td>\n",
       "    </tr>\n",
       "    <tr>\n",
       "      <th>5387</th>\n",
       "      <td>5410</td>\n",
       "      <td>NORMAL2-IM-0323-0001.jpeg</td>\n",
       "      <td>Normal</td>\n",
       "      <td>TEST</td>\n",
       "      <td>NaN</td>\n",
       "      <td>NaN</td>\n",
       "    </tr>\n",
       "    <tr>\n",
       "      <th>5816</th>\n",
       "      <td>5839</td>\n",
       "      <td>person41_virus_88.jpeg</td>\n",
       "      <td>Pnemonia</td>\n",
       "      <td>TEST</td>\n",
       "      <td>NaN</td>\n",
       "      <td>Virus</td>\n",
       "    </tr>\n",
       "  </tbody>\n",
       "</table>\n",
       "</div>"
      ],
      "text/plain": [
       "      Unnamed: 0             X_ray_image_name     Label Dataset_type  \\\n",
       "5337        5360            IM-0087-0001.jpeg    Normal         TEST   \n",
       "5423        5446    NORMAL2-IM-0275-0001.jpeg    Normal         TEST   \n",
       "5681        5704  person111_bacteria_533.jpeg  Pnemonia         TEST   \n",
       "5764        5787   person81_bacteria_395.jpeg  Pnemonia         TEST   \n",
       "5606        5629  person136_bacteria_648.jpeg  Pnemonia         TEST   \n",
       "5296        5319            IM-0009-0001.jpeg    Normal         TEST   \n",
       "5813        5836       person44_virus_93.jpeg  Pnemonia         TEST   \n",
       "5870        5893   person1676_virus_2892.jpeg  Pnemonia         TEST   \n",
       "5387        5410    NORMAL2-IM-0323-0001.jpeg    Normal         TEST   \n",
       "5816        5839       person41_virus_88.jpeg  Pnemonia         TEST   \n",
       "\n",
       "     Label_2_Virus_category Label_1_Virus_category  \n",
       "5337                    NaN                    NaN  \n",
       "5423                    NaN                    NaN  \n",
       "5681                    NaN               bacteria  \n",
       "5764                    NaN               bacteria  \n",
       "5606                    NaN               bacteria  \n",
       "5296                    NaN                    NaN  \n",
       "5813                    NaN                  Virus  \n",
       "5870                    NaN                  Virus  \n",
       "5387                    NaN                    NaN  \n",
       "5816                    NaN                  Virus  "
      ]
     },
     "execution_count": 4,
     "metadata": {},
     "output_type": "execute_result"
    }
   ],
   "source": [
    "train_data = df1[df1['Dataset_type'] == 'TRAIN']\n",
    "test_data = df1[df1['Dataset_type'] == 'TEST']\n",
    "assert train_data.shape[0] + test_data.shape[0] == df1.shape[0]\n",
    "print(f\"Shape of train data : {train_data.shape}\")\n",
    "print(f\"Shape of test data : {test_data.shape}\")\n",
    "test_data.sample(10)"
   ]
  },
  {
   "cell_type": "code",
   "execution_count": 7,
   "id": "47f442b0-276f-40c0-acf1-85c3ff6232a1",
   "metadata": {},
   "outputs": [],
   "source": [
    "import seaborn as sns\n"
   ]
  },
  {
   "cell_type": "code",
   "execution_count": 8,
   "id": "72638140-9cc9-408c-8b9d-c0fd515e8276",
   "metadata": {},
   "outputs": [
    {
     "data": {
      "image/png": "[encoded data removed]",
      "text/plain": [
       "<Figure size 1440x720 with 4 Axes>"
      ]
     },
     "metadata": {
      "needs_background": "light"
     },
     "output_type": "display_data"
    }
   ],
   "source": [
    "import matplotlib.pyplot as plt\n",
    "\n",
    "targets = ['Label', 'Label_2_Virus_category', 'Label_1_Virus_category']\n",
    "fig, ax = plt.subplots(2, 2, figsize=(20, 10))\n",
    "sns.countplot(x=targets[0], data=df1, ax=ax[0, 0])\n",
    "sns.countplot(x=targets[1], data=df1, ax=ax[0, 1])\n",
    "sns.countplot(x=targets[2], data=df1, ax=ax[1, 0])\n",
    "plt.show()\n"
   ]
  },
  {
   "cell_type": "markdown",
   "id": "fa4575b6-c3d0-426d-8b54-8f97ff3131fd",
   "metadata": {},
   "source": [
    "### Because of the lack of data in the third classification when we classify the type of virus or bacteria causing pneumonia,we add additional data from another dataset for covid 19 "
   ]
  },
  {
   "cell_type": "code",
   "execution_count": 9,
   "id": "51fc46c5-6518-4005-8c5c-69709987936f",
   "metadata": {},
   "outputs": [
    {
     "data": {
      "text/html": [
       "<div>\n",
       "<style scoped>\n",
       "    .dataframe tbody tr th:only-of-type {\n",
       "        vertical-align: middle;\n",
       "    }\n",
       "\n",
       "    .dataframe tbody tr th {\n",
       "        vertical-align: top;\n",
       "    }\n",
       "\n",
       "    .dataframe thead th {\n",
       "        text-align: right;\n",
       "    }\n",
       "</style>\n",
       "<table border=\"1\" class=\"dataframe\">\n",
       "  <thead>\n",
       "    <tr style=\"text-align: right;\">\n",
       "      <th></th>\n",
       "      <th>Unnamed: 0</th>\n",
       "      <th>X_ray_image_name</th>\n",
       "      <th>Label</th>\n",
       "      <th>Dataset_type</th>\n",
       "      <th>Label_2_Virus_category</th>\n",
       "      <th>Label_1_Virus_category</th>\n",
       "    </tr>\n",
       "  </thead>\n",
       "  <tbody>\n",
       "    <tr>\n",
       "      <th>0</th>\n",
       "      <td>1</td>\n",
       "      <td>fff13f3a</td>\n",
       "      <td>Pnemonia</td>\n",
       "      <td>TRAIN</td>\n",
       "      <td>COVID-19</td>\n",
       "      <td>Virus</td>\n",
       "    </tr>\n",
       "    <tr>\n",
       "      <th>1</th>\n",
       "      <td>2</td>\n",
       "      <td>b343e657</td>\n",
       "      <td>Pnemonia</td>\n",
       "      <td>TRAIN</td>\n",
       "      <td>COVID-19</td>\n",
       "      <td>Virus</td>\n",
       "    </tr>\n",
       "    <tr>\n",
       "      <th>2</th>\n",
       "      <td>3</td>\n",
       "      <td>c9280a30</td>\n",
       "      <td>Pnemonia</td>\n",
       "      <td>TRAIN</td>\n",
       "      <td>COVID-19</td>\n",
       "      <td>Virus</td>\n",
       "    </tr>\n",
       "    <tr>\n",
       "      <th>3</th>\n",
       "      <td>4</td>\n",
       "      <td>53c9be49</td>\n",
       "      <td>Pnemonia</td>\n",
       "      <td>TRAIN</td>\n",
       "      <td>COVID-19</td>\n",
       "      <td>Virus</td>\n",
       "    </tr>\n",
       "    <tr>\n",
       "      <th>4</th>\n",
       "      <td>5</td>\n",
       "      <td>6b5af975</td>\n",
       "      <td>Pnemonia</td>\n",
       "      <td>TRAIN</td>\n",
       "      <td>COVID-19</td>\n",
       "      <td>Virus</td>\n",
       "    </tr>\n",
       "    <tr>\n",
       "      <th>...</th>\n",
       "      <td>...</td>\n",
       "      <td>...</td>\n",
       "      <td>...</td>\n",
       "      <td>...</td>\n",
       "      <td>...</td>\n",
       "      <td>...</td>\n",
       "    </tr>\n",
       "    <tr>\n",
       "      <th>238</th>\n",
       "      <td>239</td>\n",
       "      <td>bcb814aa</td>\n",
       "      <td>Pnemonia</td>\n",
       "      <td>TRAIN</td>\n",
       "      <td>COVID-19</td>\n",
       "      <td>Virus</td>\n",
       "    </tr>\n",
       "    <tr>\n",
       "      <th>239</th>\n",
       "      <td>240</td>\n",
       "      <td>a8ac1969</td>\n",
       "      <td>Pnemonia</td>\n",
       "      <td>TRAIN</td>\n",
       "      <td>COVID-19</td>\n",
       "      <td>Virus</td>\n",
       "    </tr>\n",
       "    <tr>\n",
       "      <th>240</th>\n",
       "      <td>241</td>\n",
       "      <td>76093afc</td>\n",
       "      <td>Pnemonia</td>\n",
       "      <td>TRAIN</td>\n",
       "      <td>COVID-19</td>\n",
       "      <td>Virus</td>\n",
       "    </tr>\n",
       "    <tr>\n",
       "      <th>241</th>\n",
       "      <td>242</td>\n",
       "      <td>82a78c13</td>\n",
       "      <td>Pnemonia</td>\n",
       "      <td>TRAIN</td>\n",
       "      <td>COVID-19</td>\n",
       "      <td>Virus</td>\n",
       "    </tr>\n",
       "    <tr>\n",
       "      <th>242</th>\n",
       "      <td>243</td>\n",
       "      <td>90986ce4</td>\n",
       "      <td>Pnemonia</td>\n",
       "      <td>TRAIN</td>\n",
       "      <td>COVID-19</td>\n",
       "      <td>Virus</td>\n",
       "    </tr>\n",
       "  </tbody>\n",
       "</table>\n",
       "<p>243 rows × 6 columns</p>\n",
       "</div>"
      ],
      "text/plain": [
       "     Unnamed: 0 X_ray_image_name     Label Dataset_type  \\\n",
       "0             1         fff13f3a  Pnemonia        TRAIN   \n",
       "1             2         b343e657  Pnemonia        TRAIN   \n",
       "2             3         c9280a30  Pnemonia        TRAIN   \n",
       "3             4         53c9be49  Pnemonia        TRAIN   \n",
       "4             5         6b5af975  Pnemonia        TRAIN   \n",
       "..          ...              ...       ...          ...   \n",
       "238         239         bcb814aa  Pnemonia        TRAIN   \n",
       "239         240         a8ac1969  Pnemonia        TRAIN   \n",
       "240         241         76093afc  Pnemonia        TRAIN   \n",
       "241         242         82a78c13  Pnemonia        TRAIN   \n",
       "242         243         90986ce4  Pnemonia        TRAIN   \n",
       "\n",
       "    Label_2_Virus_category Label_1_Virus_category  \n",
       "0                 COVID-19                  Virus  \n",
       "1                 COVID-19                  Virus  \n",
       "2                 COVID-19                  Virus  \n",
       "3                 COVID-19                  Virus  \n",
       "4                 COVID-19                  Virus  \n",
       "..                     ...                    ...  \n",
       "238               COVID-19                  Virus  \n",
       "239               COVID-19                  Virus  \n",
       "240               COVID-19                  Virus  \n",
       "241               COVID-19                  Virus  \n",
       "242               COVID-19                  Virus  \n",
       "\n",
       "[243 rows x 6 columns]"
      ]
     },
     "execution_count": 9,
     "metadata": {},
     "output_type": "execute_result"
    }
   ],
   "source": [
    "df2=pd.read_csv('Covid_19.csv')\n",
    "df2"
   ]
  },
  {
   "cell_type": "code",
   "execution_count": 10,
   "id": "0c44f4d5-0bdc-4b6b-bd26-20adc9019f61",
   "metadata": {},
   "outputs": [
    {
     "data": {
      "text/html": [
       "<div>\n",
       "<style scoped>\n",
       "    .dataframe tbody tr th:only-of-type {\n",
       "        vertical-align: middle;\n",
       "    }\n",
       "\n",
       "    .dataframe tbody tr th {\n",
       "        vertical-align: top;\n",
       "    }\n",
       "\n",
       "    .dataframe thead th {\n",
       "        text-align: right;\n",
       "    }\n",
       "</style>\n",
       "<table border=\"1\" class=\"dataframe\">\n",
       "  <thead>\n",
       "    <tr style=\"text-align: right;\">\n",
       "      <th></th>\n",
       "      <th>Unnamed: 0</th>\n",
       "      <th>X_ray_image_name</th>\n",
       "      <th>Label</th>\n",
       "      <th>Dataset_type</th>\n",
       "      <th>Label_2_Virus_category</th>\n",
       "      <th>Label_1_Virus_category</th>\n",
       "    </tr>\n",
       "  </thead>\n",
       "  <tbody>\n",
       "    <tr>\n",
       "      <th>0</th>\n",
       "      <td>0</td>\n",
       "      <td>IM-0128-0001.jpeg</td>\n",
       "      <td>Normal</td>\n",
       "      <td>TRAIN</td>\n",
       "      <td>NaN</td>\n",
       "      <td>NaN</td>\n",
       "    </tr>\n",
       "    <tr>\n",
       "      <th>1</th>\n",
       "      <td>1</td>\n",
       "      <td>IM-0127-0001.jpeg</td>\n",
       "      <td>Normal</td>\n",
       "      <td>TRAIN</td>\n",
       "      <td>NaN</td>\n",
       "      <td>NaN</td>\n",
       "    </tr>\n",
       "    <tr>\n",
       "      <th>2</th>\n",
       "      <td>2</td>\n",
       "      <td>IM-0125-0001.jpeg</td>\n",
       "      <td>Normal</td>\n",
       "      <td>TRAIN</td>\n",
       "      <td>NaN</td>\n",
       "      <td>NaN</td>\n",
       "    </tr>\n",
       "    <tr>\n",
       "      <th>3</th>\n",
       "      <td>3</td>\n",
       "      <td>IM-0122-0001.jpeg</td>\n",
       "      <td>Normal</td>\n",
       "      <td>TRAIN</td>\n",
       "      <td>NaN</td>\n",
       "      <td>NaN</td>\n",
       "    </tr>\n",
       "    <tr>\n",
       "      <th>4</th>\n",
       "      <td>4</td>\n",
       "      <td>IM-0119-0001.jpeg</td>\n",
       "      <td>Normal</td>\n",
       "      <td>TRAIN</td>\n",
       "      <td>NaN</td>\n",
       "      <td>NaN</td>\n",
       "    </tr>\n",
       "    <tr>\n",
       "      <th>...</th>\n",
       "      <td>...</td>\n",
       "      <td>...</td>\n",
       "      <td>...</td>\n",
       "      <td>...</td>\n",
       "      <td>...</td>\n",
       "      <td>...</td>\n",
       "    </tr>\n",
       "    <tr>\n",
       "      <th>238</th>\n",
       "      <td>239</td>\n",
       "      <td>bcb814aa</td>\n",
       "      <td>Pnemonia</td>\n",
       "      <td>TRAIN</td>\n",
       "      <td>COVID-19</td>\n",
       "      <td>Virus</td>\n",
       "    </tr>\n",
       "    <tr>\n",
       "      <th>239</th>\n",
       "      <td>240</td>\n",
       "      <td>a8ac1969</td>\n",
       "      <td>Pnemonia</td>\n",
       "      <td>TRAIN</td>\n",
       "      <td>COVID-19</td>\n",
       "      <td>Virus</td>\n",
       "    </tr>\n",
       "    <tr>\n",
       "      <th>240</th>\n",
       "      <td>241</td>\n",
       "      <td>76093afc</td>\n",
       "      <td>Pnemonia</td>\n",
       "      <td>TRAIN</td>\n",
       "      <td>COVID-19</td>\n",
       "      <td>Virus</td>\n",
       "    </tr>\n",
       "    <tr>\n",
       "      <th>241</th>\n",
       "      <td>242</td>\n",
       "      <td>82a78c13</td>\n",
       "      <td>Pnemonia</td>\n",
       "      <td>TRAIN</td>\n",
       "      <td>COVID-19</td>\n",
       "      <td>Virus</td>\n",
       "    </tr>\n",
       "    <tr>\n",
       "      <th>242</th>\n",
       "      <td>243</td>\n",
       "      <td>90986ce4</td>\n",
       "      <td>Pnemonia</td>\n",
       "      <td>TRAIN</td>\n",
       "      <td>COVID-19</td>\n",
       "      <td>Virus</td>\n",
       "    </tr>\n",
       "  </tbody>\n",
       "</table>\n",
       "<p>6153 rows × 6 columns</p>\n",
       "</div>"
      ],
      "text/plain": [
       "     Unnamed: 0   X_ray_image_name     Label Dataset_type  \\\n",
       "0             0  IM-0128-0001.jpeg    Normal        TRAIN   \n",
       "1             1  IM-0127-0001.jpeg    Normal        TRAIN   \n",
       "2             2  IM-0125-0001.jpeg    Normal        TRAIN   \n",
       "3             3  IM-0122-0001.jpeg    Normal        TRAIN   \n",
       "4             4  IM-0119-0001.jpeg    Normal        TRAIN   \n",
       "..          ...                ...       ...          ...   \n",
       "238         239           bcb814aa  Pnemonia        TRAIN   \n",
       "239         240           a8ac1969  Pnemonia        TRAIN   \n",
       "240         241           76093afc  Pnemonia        TRAIN   \n",
       "241         242           82a78c13  Pnemonia        TRAIN   \n",
       "242         243           90986ce4  Pnemonia        TRAIN   \n",
       "\n",
       "    Label_2_Virus_category Label_1_Virus_category  \n",
       "0                      NaN                    NaN  \n",
       "1                      NaN                    NaN  \n",
       "2                      NaN                    NaN  \n",
       "3                      NaN                    NaN  \n",
       "4                      NaN                    NaN  \n",
       "..                     ...                    ...  \n",
       "238               COVID-19                  Virus  \n",
       "239               COVID-19                  Virus  \n",
       "240               COVID-19                  Virus  \n",
       "241               COVID-19                  Virus  \n",
       "242               COVID-19                  Virus  \n",
       "\n",
       "[6153 rows x 6 columns]"
      ]
     },
     "execution_count": 10,
     "metadata": {},
     "output_type": "execute_result"
    }
   ],
   "source": [
    "df3=pd.concat([df1,df2])\n",
    "df3"
   ]
  },
  {
   "cell_type": "markdown",
   "id": "e8402876-32f6-46d1-8254-ac991f25e825",
   "metadata": {},
   "source": [
    "##### Convert the df3 to csv file : "
   ]
  },
  {
   "cell_type": "code",
   "execution_count": 11,
   "id": "7216262e-b6af-448e-855c-f07d48dbb6e2",
   "metadata": {},
   "outputs": [],
   "source": [
    "#df3.to_csv(\"full_version.csv\")"
   ]
  },
  {
   "cell_type": "code",
   "execution_count": 12,
   "id": "50819984-46da-40a9-afdb-f63940228426",
   "metadata": {},
   "outputs": [],
   "source": [
    "# df=pd.read_csv('full_version.csv')\n",
    "# df"
   ]
  },
  {
   "cell_type": "markdown",
   "id": "041721a8-5ea1-4d2f-9252-2713a75eae10",
   "metadata": {},
   "source": [
    "# Finding Duplicate Images With Simple Hashing\n"
   ]
  },
  {
   "cell_type": "code",
   "execution_count": 13,
   "id": "f1f72367-7865-4229-83b2-52af80c072f7",
   "metadata": {},
   "outputs": [],
   "source": [
    "import hashlib\n",
    "import imageio # to read the image using imageio.imread\n",
    "import matplotlib.pyplot as plt\n",
    "%matplotlib inline"
   ]
  },
  {
   "cell_type": "code",
   "execution_count": 14,
   "id": "1336c01c-8b3a-4c42-a668-5c0c8f0bfb1d",
   "metadata": {},
   "outputs": [],
   "source": [
    "from hashlib import md5"
   ]
  },
  {
   "cell_type": "code",
   "execution_count": 15,
   "id": "2ad32783-1ff3-49a8-bd9c-253bf2e3b1fc",
   "metadata": {},
   "outputs": [],
   "source": [
    "def file_hash(filepath):\n",
    "    with open(filepath, 'rb') as f:\n",
    "        return md5(f.read()).hexdigest()"
   ]
  },
  {
   "cell_type": "code",
   "execution_count": 16,
   "id": "79a2ce06-29ff-4222-aad6-865aa4da1c1b",
   "metadata": {},
   "outputs": [
    {
     "data": {
      "text/plain": [
       "'/mnt/c/Users/user/Doctoraizer'"
      ]
     },
     "execution_count": 16,
     "metadata": {},
     "output_type": "execute_result"
    }
   ],
   "source": [
    "import os\n",
    "os.getcwd()"
   ]
  },
  {
   "cell_type": "code",
   "execution_count": 17,
   "id": "f68fe7ff-65b3-48ba-bf96-3c5174cd9f2b",
   "metadata": {},
   "outputs": [
    {
     "data": {
      "text/plain": [
       "'/mnt/c/Users/user/Doctoraizer/Coronahack-Chest-XRay-Dataset/test'"
      ]
     },
     "execution_count": 17,
     "metadata": {},
     "output_type": "execute_result"
    }
   ],
   "source": [
    "os.chdir(r'/mnt/c/Users/user/Doctoraizer/Coronahack-Chest-XRay-Dataset/test')\n",
    "os.getcwd()"
   ]
  },
  {
   "cell_type": "code",
   "execution_count": 18,
   "id": "c194f4c4-35db-4f42-8138-1a14519d9851",
   "metadata": {},
   "outputs": [
    {
     "name": "stdout",
     "output_type": "stream",
     "text": [
      "620\n"
     ]
    }
   ],
   "source": [
    "files_list = os.listdir()\n",
    "print(len(files_list))"
   ]
  },
  {
   "cell_type": "code",
   "execution_count": 19,
   "id": "736c9fec-87ef-4184-b1c7-d2e709a52cbc",
   "metadata": {},
   "outputs": [],
   "source": [
    "duplicates = []\n",
    "hash_keys = dict()\n",
    "for index, filename in  enumerate(os.listdir('.')):  #listdir('.') = current directory\n",
    "    if os.path.isfile(filename):\n",
    "        with open(filename, 'rb') as f:\n",
    "            filehash = hashlib.md5(f.read()).hexdigest()\n",
    "        if filehash not in hash_keys: \n",
    "            hash_keys[filehash] = index\n",
    "        else:\n",
    "            duplicates.append((index,hash_keys[filehash]))"
   ]
  },
  {
   "cell_type": "code",
   "execution_count": 20,
   "id": "3a4371dd-67f0-4ec3-95a1-eb580da2ad28",
   "metadata": {},
   "outputs": [
    {
     "data": {
      "text/plain": [
       "[]"
      ]
     },
     "execution_count": 20,
     "metadata": {},
     "output_type": "execute_result"
    }
   ],
   "source": [
    "duplicates"
   ]
  },
  {
   "cell_type": "markdown",
   "id": "d13c16e1-dc65-4108-b82a-6e68a8a61013",
   "metadata": {},
   "source": [
    "[(1, 0), (96, 95), (119, 118), (140, 139), (321, 320), (339, 338), (453, 452)]\n"
   ]
  },
  {
   "cell_type": "code",
   "execution_count": 21,
   "id": "880dc373-ea29-402e-a343-cd4dbd27eccf",
   "metadata": {},
   "outputs": [],
   "source": [
    "# To display the deplicated images \n",
    "for file_indexes in duplicates[:30]:\n",
    "    try:\n",
    "    \n",
    "        plt.subplot(121),plt.imshow(imageio.imread(files_list[file_indexes[1]]))\n",
    "        plt.title(file_indexes[1]), plt.xticks([]), plt.yticks([])\n",
    "\n",
    "        plt.subplot(122),plt.imshow(imageio.imread(files_list[file_indexes[0]]))\n",
    "        plt.title(str(file_indexes[0]) + ' duplicate'), plt.xticks([]), plt.yticks([])\n",
    "        plt.show()\n",
    "    \n",
    "    except OSError as e:\n",
    "        continue"
   ]
  },
  {
   "cell_type": "code",
   "execution_count": 22,
   "id": "87a6baf3-1c01-4eab-b33b-1e23071396b5",
   "metadata": {},
   "outputs": [],
   "source": [
    "for index in duplicates:\n",
    "    os.remove(files_list[index[0]])"
   ]
  },
  {
   "cell_type": "code",
   "execution_count": 23,
   "id": "4ad4062e-0ff1-4e6d-9c30-584dddb5f084",
   "metadata": {},
   "outputs": [
    {
     "data": {
      "text/plain": [
       "'/mnt/c/Users/user/Doctoraizer/Coronahack-Chest-XRay-Dataset/train'"
      ]
     },
     "execution_count": 23,
     "metadata": {},
     "output_type": "execute_result"
    }
   ],
   "source": [
    "os.chdir(r'/mnt/c/Users/user/Doctoraizer/Coronahack-Chest-XRay-Dataset/train')\n",
    "os.getcwd()"
   ]
  },
  {
   "cell_type": "code",
   "execution_count": 24,
   "id": "95870b71-6d66-44fc-8ebc-a2655509908c",
   "metadata": {},
   "outputs": [
    {
     "name": "stdout",
     "output_type": "stream",
     "text": [
      "5527\n"
     ]
    }
   ],
   "source": [
    "files_list = os.listdir()\n",
    "print(len(files_list))"
   ]
  },
  {
   "cell_type": "code",
   "execution_count": 25,
   "id": "c1d012c8-9bda-4390-b4f9-0442abc49137",
   "metadata": {},
   "outputs": [],
   "source": [
    "# duplicates = []\n",
    "# hash_keys = dict()\n",
    "# for index, filename in  enumerate(os.listdir('.')):  #listdir('.') = current directory\n",
    "#     if os.path.isfile(filename):\n",
    "#         with open(filename, 'rb') as f:\n",
    "#             filehash = hashlib.md5(f.read()).hexdigest()\n",
    "#         if filehash not in hash_keys: \n",
    "#             hash_keys[filehash] = index\n",
    "#         else:\n",
    "#             duplicates.append((index,hash_keys[filehash]))"
   ]
  },
  {
   "cell_type": "code",
   "execution_count": 26,
   "id": "996c6d3a-9b9c-4a74-b258-c93bda4e8fb0",
   "metadata": {},
   "outputs": [],
   "source": [
    "# duplicates"
   ]
  },
  {
   "cell_type": "markdown",
   "id": "cba9937b-0bb7-4d4b-bf05-62f01cb9059a",
   "metadata": {},
   "source": [
    "[(1081, 1080),\n",
    " (1961, 1960),\n",
    " (2150, 2149),\n",
    " (2174, 2173),\n",
    " (2289, 2288),\n",
    " (2371, 2370),\n",
    " (2396, 2395),\n",
    " (2446, 2445),\n",
    " (2447, 2445),\n",
    " (2577, 2576),\n",
    " (2695, 2694),\n",
    " (2697, 2696),\n",
    " (2699, 2698),\n",
    " (2748, 2747),\n",
    " (3001, 3000),\n",
    " (3014, 3013),\n",
    " (3019, 3018),\n",
    " (3369, 3368),\n",
    " (3370, 3368),\n",
    " (3404, 3403),\n",
    " (3413, 3412),\n",
    " (3614, 3613),\n",
    " (3822, 3821),\n",
    " (3993, 3992),\n",
    " (4990, 4989),\n",
    " (5250, 5249)]"
   ]
  },
  {
   "cell_type": "code",
   "execution_count": 27,
   "id": "f64cae4e-900b-4c14-a572-5ba5d512a192",
   "metadata": {},
   "outputs": [],
   "source": [
    "# # To display the deplicated images \n",
    "# for file_indexes in duplicates[:30]:\n",
    "#     try:\n",
    "    \n",
    "#         plt.subplot(121),plt.imshow(imageio.imread(files_list[file_indexes[1]]))\n",
    "#         plt.title(file_indexes[1]), plt.xticks([]), plt.yticks([])\n",
    "\n",
    "#         plt.subplot(122),plt.imshow(imageio.imread(files_list[file_indexes[0]]))\n",
    "#         plt.title(str(file_indexes[0]) + ' duplicate'), plt.xticks([]), plt.yticks([])\n",
    "#         plt.show()\n",
    "    \n",
    "#     except OSError as e:\n",
    "#         continue"
   ]
  },
  {
   "cell_type": "code",
   "execution_count": 28,
   "id": "c021f113-8acf-4bd7-bd86-ae791db9ab44",
   "metadata": {},
   "outputs": [],
   "source": [
    "# for index in duplicates:\n",
    "#     os.remove(files_list[index[0]])"
   ]
  },
  {
   "cell_type": "markdown",
   "id": "25820e92-3040-401e-8ba2-889efe8a2da7",
   "metadata": {},
   "source": [
    "# Remove the deplicated images manually"
   ]
  },
  {
   "cell_type": "code",
   "execution_count": 29,
   "id": "8dbf885d-a5fa-4c00-a7f2-4f85115d6a28",
   "metadata": {},
   "outputs": [
    {
     "data": {
      "text/plain": [
       "'/mnt/c/Users/user/examples/Coronahack-Chest-XRay-Dataset/train'"
      ]
     },
     "execution_count": 29,
     "metadata": {},
     "output_type": "execute_result"
    }
   ],
   "source": [
    "os.chdir(r'/mnt/c/Users/user/examples/Coronahack-Chest-XRay-Dataset/train')\n",
    "os.getcwd()"
   ]
  },
  {
   "cell_type": "code",
   "execution_count": 30,
   "id": "5b54fc03-308c-40de-9035-740707ccaaf2",
   "metadata": {},
   "outputs": [
    {
     "name": "stdout",
     "output_type": "stream",
     "text": [
      "5552\n"
     ]
    }
   ],
   "source": [
    "files_list = os.listdir()\n",
    "print(len(files_list))"
   ]
  },
  {
   "cell_type": "code",
   "execution_count": 31,
   "id": "c22e717d-1f9f-4ad3-a6ff-77a6a5e76b9c",
   "metadata": {},
   "outputs": [
    {
     "name": "stdout",
     "output_type": "stream",
     "text": [
      "NORMAL2-IM-0587-0001-0002.jpeg\n",
      "person1159_virus_1945.jpeg\n",
      "person124_virus_247.jpeg\n",
      "person1261_virus_2148.jpeg\n",
      "person1312_bacteria_3318.jpeg\n",
      "person1343_bacteria_3414.jpeg\n",
      "person1349_bacteria_3437.jpeg\n",
      "person1372_bacteria_3502.jpeg\n",
      "person1372_bacteria_3503.jpeg\n",
      "person1430_bacteria_3696.jpeg\n",
      "person1481_bacteria_3863.jpeg\n",
      "person1481_bacteria_3865.jpeg\n",
      "person1481_bacteria_3867.jpeg\n",
      "person1496_bacteria_3910.jpeg\n",
      "person1619_bacteria_4268.jpeg\n",
      "person1628_bacteria_4298.jpeg\n",
      "person162_virus_322.jpeg\n",
      "person258_bacteria_1208.jpeg\n",
      "person258_bacteria_1209.jpeg\n",
      "person264_bacteria_1231.jpeg\n",
      "person266_bacteria_1238.jpeg\n",
      "person30_bacteria_157.jpeg\n",
      "person357_virus_735.jpeg\n",
      "person401_virus_798.jpeg\n",
      "person688_virus_1282.jpeg\n",
      "person834_bacteria_2748.jpeg\n"
     ]
    }
   ],
   "source": [
    "print(files_list[1081])\n",
    "print(files_list[1961])\n",
    "print(files_list[2150])\n",
    "print(files_list[2174])\n",
    "print(files_list[2289])\n",
    "print(files_list[2371])\n",
    "print(files_list[2396])\n",
    "print(files_list[2446])\n",
    "print(files_list[2447])\n",
    "print(files_list[2577])\n",
    "print(files_list[2695])\n",
    "print(files_list[2697])\n",
    "print(files_list[2699])\n",
    "print(files_list[2748])\n",
    "print(files_list[3001])\n",
    "print(files_list[3014])\n",
    "print(files_list[3019])\n",
    "print(files_list[3369])\n",
    "print(files_list[3370])\n",
    "print(files_list[3404])\n",
    "print(files_list[3413])\n",
    "print(files_list[3614])\n",
    "print(files_list[3822])\n",
    "print(files_list[3993])\n",
    "print(files_list[4990])\n",
    "print(files_list[5250])\n"
   ]
  },
  {
   "cell_type": "code",
   "execution_count": 32,
   "id": "af8c008e-827b-4a51-b076-9bd4f527a3b8",
   "metadata": {},
   "outputs": [
    {
     "data": {
      "text/plain": [
       "'/mnt/c/Users/user/examples/Coronahack-Chest-XRay-Dataset/test'"
      ]
     },
     "execution_count": 32,
     "metadata": {},
     "output_type": "execute_result"
    }
   ],
   "source": [
    "os.chdir(r'/mnt/c/Users/user/examples/Coronahack-Chest-XRay-Dataset/test')\n",
    "os.getcwd()"
   ]
  },
  {
   "cell_type": "code",
   "execution_count": 33,
   "id": "861a9880-694f-405b-9a27-c2ecbb4b6c2a",
   "metadata": {},
   "outputs": [
    {
     "name": "stdout",
     "output_type": "stream",
     "text": [
      "625\n"
     ]
    }
   ],
   "source": [
    "files_list = os.listdir()\n",
    "print(len(files_list))"
   ]
  },
  {
   "cell_type": "code",
   "execution_count": 34,
   "id": "1cdf6ac4-2039-4be9-a702-bc121d61b04a",
   "metadata": {},
   "outputs": [
    {
     "name": "stdout",
     "output_type": "stream",
     "text": [
      "IM-0001-0001.jpeg\n",
      "NORMAL2-IM-0096-0001.jpeg\n",
      "NORMAL2-IM-0173-0001-0002.jpeg\n",
      "NORMAL2-IM-0246-0001-0002.jpeg\n",
      "person128_bacteria_607.jpeg\n",
      "person134_bacteria_644.jpeg\n",
      "person1661_virus_2873.jpeg\n"
     ]
    }
   ],
   "source": [
    "print(files_list[1])\n",
    "print(files_list[96])\n",
    "print(files_list[119])\n",
    "print(files_list[140])\n",
    "print(files_list[321])\n",
    "print(files_list[339])\n",
    "print(files_list[453])\n"
   ]
  },
  {
   "cell_type": "code",
   "execution_count": 35,
   "id": "2a5dc916-561c-4a01-92cd-e27b0e87841d",
   "metadata": {},
   "outputs": [
    {
     "data": {
      "text/plain": [
       "'/mnt/c/Users/user/Doctoraizer'"
      ]
     },
     "execution_count": 35,
     "metadata": {},
     "output_type": "execute_result"
    }
   ],
   "source": [
    "os.chdir(r'/mnt/c/Users/user/Doctoraizer')\n",
    "os.getcwd()\n"
   ]
  },
  {
   "cell_type": "code",
   "execution_count": 36,
   "id": "0ab3dbf2-56d9-4536-939a-d4e11adb9f9b",
   "metadata": {},
   "outputs": [
    {
     "data": {
      "text/html": [
       "<div>\n",
       "<style scoped>\n",
       "    .dataframe tbody tr th:only-of-type {\n",
       "        vertical-align: middle;\n",
       "    }\n",
       "\n",
       "    .dataframe tbody tr th {\n",
       "        vertical-align: top;\n",
       "    }\n",
       "\n",
       "    .dataframe thead th {\n",
       "        text-align: right;\n",
       "    }\n",
       "</style>\n",
       "<table border=\"1\" class=\"dataframe\">\n",
       "  <thead>\n",
       "    <tr style=\"text-align: right;\">\n",
       "      <th></th>\n",
       "      <th>Unnamed: 0</th>\n",
       "      <th>Unnamed: 0.1</th>\n",
       "      <th>X_ray_image_name</th>\n",
       "      <th>Label</th>\n",
       "      <th>Dataset_type</th>\n",
       "      <th>Label_2_Virus_category</th>\n",
       "      <th>Label_1_Virus_category</th>\n",
       "    </tr>\n",
       "  </thead>\n",
       "  <tbody>\n",
       "    <tr>\n",
       "      <th>0</th>\n",
       "      <td>0</td>\n",
       "      <td>0</td>\n",
       "      <td>IM-0128-0001.jpeg</td>\n",
       "      <td>Normal</td>\n",
       "      <td>TRAIN</td>\n",
       "      <td>NaN</td>\n",
       "      <td>NaN</td>\n",
       "    </tr>\n",
       "    <tr>\n",
       "      <th>1</th>\n",
       "      <td>1</td>\n",
       "      <td>1</td>\n",
       "      <td>IM-0127-0001.jpeg</td>\n",
       "      <td>Normal</td>\n",
       "      <td>TRAIN</td>\n",
       "      <td>NaN</td>\n",
       "      <td>NaN</td>\n",
       "    </tr>\n",
       "    <tr>\n",
       "      <th>2</th>\n",
       "      <td>2</td>\n",
       "      <td>2</td>\n",
       "      <td>IM-0125-0001.jpeg</td>\n",
       "      <td>Normal</td>\n",
       "      <td>TRAIN</td>\n",
       "      <td>NaN</td>\n",
       "      <td>NaN</td>\n",
       "    </tr>\n",
       "    <tr>\n",
       "      <th>3</th>\n",
       "      <td>3</td>\n",
       "      <td>3</td>\n",
       "      <td>IM-0122-0001.jpeg</td>\n",
       "      <td>Normal</td>\n",
       "      <td>TRAIN</td>\n",
       "      <td>NaN</td>\n",
       "      <td>NaN</td>\n",
       "    </tr>\n",
       "    <tr>\n",
       "      <th>4</th>\n",
       "      <td>4</td>\n",
       "      <td>4</td>\n",
       "      <td>IM-0119-0001.jpeg</td>\n",
       "      <td>Normal</td>\n",
       "      <td>TRAIN</td>\n",
       "      <td>NaN</td>\n",
       "      <td>NaN</td>\n",
       "    </tr>\n",
       "    <tr>\n",
       "      <th>...</th>\n",
       "      <td>...</td>\n",
       "      <td>...</td>\n",
       "      <td>...</td>\n",
       "      <td>...</td>\n",
       "      <td>...</td>\n",
       "      <td>...</td>\n",
       "      <td>...</td>\n",
       "    </tr>\n",
       "    <tr>\n",
       "      <th>6115</th>\n",
       "      <td>238</td>\n",
       "      <td>239</td>\n",
       "      <td>bcb814aa</td>\n",
       "      <td>Pnemonia</td>\n",
       "      <td>TRAIN</td>\n",
       "      <td>COVID-19</td>\n",
       "      <td>Virus</td>\n",
       "    </tr>\n",
       "    <tr>\n",
       "      <th>6116</th>\n",
       "      <td>239</td>\n",
       "      <td>240</td>\n",
       "      <td>a8ac1969</td>\n",
       "      <td>Pnemonia</td>\n",
       "      <td>TRAIN</td>\n",
       "      <td>COVID-19</td>\n",
       "      <td>Virus</td>\n",
       "    </tr>\n",
       "    <tr>\n",
       "      <th>6117</th>\n",
       "      <td>240</td>\n",
       "      <td>241</td>\n",
       "      <td>76093afc</td>\n",
       "      <td>Pnemonia</td>\n",
       "      <td>TRAIN</td>\n",
       "      <td>COVID-19</td>\n",
       "      <td>Virus</td>\n",
       "    </tr>\n",
       "    <tr>\n",
       "      <th>6118</th>\n",
       "      <td>241</td>\n",
       "      <td>242</td>\n",
       "      <td>82a78c13</td>\n",
       "      <td>Pnemonia</td>\n",
       "      <td>TRAIN</td>\n",
       "      <td>COVID-19</td>\n",
       "      <td>Virus</td>\n",
       "    </tr>\n",
       "    <tr>\n",
       "      <th>6119</th>\n",
       "      <td>242</td>\n",
       "      <td>243</td>\n",
       "      <td>90986ce4</td>\n",
       "      <td>Pnemonia</td>\n",
       "      <td>TRAIN</td>\n",
       "      <td>COVID-19</td>\n",
       "      <td>Virus</td>\n",
       "    </tr>\n",
       "  </tbody>\n",
       "</table>\n",
       "<p>6120 rows × 7 columns</p>\n",
       "</div>"
      ],
      "text/plain": [
       "      Unnamed: 0  Unnamed: 0.1   X_ray_image_name     Label Dataset_type  \\\n",
       "0              0             0  IM-0128-0001.jpeg    Normal        TRAIN   \n",
       "1              1             1  IM-0127-0001.jpeg    Normal        TRAIN   \n",
       "2              2             2  IM-0125-0001.jpeg    Normal        TRAIN   \n",
       "3              3             3  IM-0122-0001.jpeg    Normal        TRAIN   \n",
       "4              4             4  IM-0119-0001.jpeg    Normal        TRAIN   \n",
       "...          ...           ...                ...       ...          ...   \n",
       "6115         238           239           bcb814aa  Pnemonia        TRAIN   \n",
       "6116         239           240           a8ac1969  Pnemonia        TRAIN   \n",
       "6117         240           241           76093afc  Pnemonia        TRAIN   \n",
       "6118         241           242           82a78c13  Pnemonia        TRAIN   \n",
       "6119         242           243           90986ce4  Pnemonia        TRAIN   \n",
       "\n",
       "     Label_2_Virus_category Label_1_Virus_category  \n",
       "0                       NaN                    NaN  \n",
       "1                       NaN                    NaN  \n",
       "2                       NaN                    NaN  \n",
       "3                       NaN                    NaN  \n",
       "4                       NaN                    NaN  \n",
       "...                     ...                    ...  \n",
       "6115               COVID-19                  Virus  \n",
       "6116               COVID-19                  Virus  \n",
       "6117               COVID-19                  Virus  \n",
       "6118               COVID-19                  Virus  \n",
       "6119               COVID-19                  Virus  \n",
       "\n",
       "[6120 rows x 7 columns]"
      ]
     },
     "execution_count": 36,
     "metadata": {},
     "output_type": "execute_result"
    }
   ],
   "source": [
    "df_mod = pd.read_csv('full_version.csv')\n",
    "df_mod"
   ]
  },
  {
   "cell_type": "code",
   "execution_count": 37,
   "id": "65e7de1e-0c8e-4e34-a696-09cb01146289",
   "metadata": {},
   "outputs": [
    {
     "data": {
      "text/plain": [
       "6120"
      ]
     },
     "execution_count": 37,
     "metadata": {},
     "output_type": "execute_result"
    }
   ],
   "source": [
    "df_mod.X_ray_image_name.count()\n"
   ]
  },
  {
   "cell_type": "code",
   "execution_count": 38,
   "id": "aaef7b93-0027-4f3c-8318-9e48421c8431",
   "metadata": {},
   "outputs": [
    {
     "data": {
      "text/plain": [
       "6120"
      ]
     },
     "execution_count": 38,
     "metadata": {},
     "output_type": "execute_result"
    }
   ],
   "source": [
    "len(df_mod.X_ray_image_name.unique())\n"
   ]
  },
  {
   "cell_type": "code",
   "execution_count": 39,
   "id": "047df0f8-4561-4613-b9cc-71b0c199c294",
   "metadata": {},
   "outputs": [
    {
     "name": "stdout",
     "output_type": "stream",
     "text": [
      "Shape of train data : (5503, 7)\n",
      "Shape of test data : (617, 7)\n"
     ]
    },
    {
     "data": {
      "text/html": [
       "<div>\n",
       "<style scoped>\n",
       "    .dataframe tbody tr th:only-of-type {\n",
       "        vertical-align: middle;\n",
       "    }\n",
       "\n",
       "    .dataframe tbody tr th {\n",
       "        vertical-align: top;\n",
       "    }\n",
       "\n",
       "    .dataframe thead th {\n",
       "        text-align: right;\n",
       "    }\n",
       "</style>\n",
       "<table border=\"1\" class=\"dataframe\">\n",
       "  <thead>\n",
       "    <tr style=\"text-align: right;\">\n",
       "      <th></th>\n",
       "      <th>Unnamed: 0</th>\n",
       "      <th>Unnamed: 0.1</th>\n",
       "      <th>X_ray_image_name</th>\n",
       "      <th>Label</th>\n",
       "      <th>Dataset_type</th>\n",
       "      <th>Label_2_Virus_category</th>\n",
       "      <th>Label_1_Virus_category</th>\n",
       "    </tr>\n",
       "  </thead>\n",
       "  <tbody>\n",
       "    <tr>\n",
       "      <th>5859</th>\n",
       "      <td>5892</td>\n",
       "      <td>5915</td>\n",
       "      <td>person1653_virus_2859.jpeg</td>\n",
       "      <td>Pnemonia</td>\n",
       "      <td>TEST</td>\n",
       "      <td>NaN</td>\n",
       "      <td>Virus</td>\n",
       "    </tr>\n",
       "    <tr>\n",
       "      <th>5875</th>\n",
       "      <td>5908</td>\n",
       "      <td>5931</td>\n",
       "      <td>person1633_virus_2829.jpeg</td>\n",
       "      <td>Pnemonia</td>\n",
       "      <td>TEST</td>\n",
       "      <td>NaN</td>\n",
       "      <td>Virus</td>\n",
       "    </tr>\n",
       "    <tr>\n",
       "      <th>5812</th>\n",
       "      <td>5844</td>\n",
       "      <td>5867</td>\n",
       "      <td>person1_virus_9.jpeg</td>\n",
       "      <td>Pnemonia</td>\n",
       "      <td>TEST</td>\n",
       "      <td>NaN</td>\n",
       "      <td>Virus</td>\n",
       "    </tr>\n",
       "    <tr>\n",
       "      <th>5272</th>\n",
       "      <td>5298</td>\n",
       "      <td>5321</td>\n",
       "      <td>IM-0006-0001.jpeg</td>\n",
       "      <td>Normal</td>\n",
       "      <td>TEST</td>\n",
       "      <td>NaN</td>\n",
       "      <td>NaN</td>\n",
       "    </tr>\n",
       "    <tr>\n",
       "      <th>5869</th>\n",
       "      <td>5902</td>\n",
       "      <td>5925</td>\n",
       "      <td>person1642_virus_2842.jpeg</td>\n",
       "      <td>Pnemonia</td>\n",
       "      <td>TEST</td>\n",
       "      <td>NaN</td>\n",
       "      <td>Virus</td>\n",
       "    </tr>\n",
       "    <tr>\n",
       "      <th>5732</th>\n",
       "      <td>5764</td>\n",
       "      <td>5787</td>\n",
       "      <td>person81_bacteria_395.jpeg</td>\n",
       "      <td>Pnemonia</td>\n",
       "      <td>TEST</td>\n",
       "      <td>NaN</td>\n",
       "      <td>bacteria</td>\n",
       "    </tr>\n",
       "    <tr>\n",
       "      <th>5499</th>\n",
       "      <td>5529</td>\n",
       "      <td>5552</td>\n",
       "      <td>person1620_virus_2807.jpeg</td>\n",
       "      <td>Pnemonia</td>\n",
       "      <td>TEST</td>\n",
       "      <td>NaN</td>\n",
       "      <td>Virus</td>\n",
       "    </tr>\n",
       "    <tr>\n",
       "      <th>5276</th>\n",
       "      <td>5303</td>\n",
       "      <td>5326</td>\n",
       "      <td>NORMAL2-IM-0072-0001.jpeg</td>\n",
       "      <td>Normal</td>\n",
       "      <td>TEST</td>\n",
       "      <td>NaN</td>\n",
       "      <td>NaN</td>\n",
       "    </tr>\n",
       "    <tr>\n",
       "      <th>5571</th>\n",
       "      <td>5601</td>\n",
       "      <td>5624</td>\n",
       "      <td>person137_bacteria_655.jpeg</td>\n",
       "      <td>Pnemonia</td>\n",
       "      <td>TEST</td>\n",
       "      <td>NaN</td>\n",
       "      <td>bacteria</td>\n",
       "    </tr>\n",
       "    <tr>\n",
       "      <th>5313</th>\n",
       "      <td>5340</td>\n",
       "      <td>5363</td>\n",
       "      <td>IM-0084-0001.jpeg</td>\n",
       "      <td>Normal</td>\n",
       "      <td>TEST</td>\n",
       "      <td>NaN</td>\n",
       "      <td>NaN</td>\n",
       "    </tr>\n",
       "  </tbody>\n",
       "</table>\n",
       "</div>"
      ],
      "text/plain": [
       "      Unnamed: 0  Unnamed: 0.1             X_ray_image_name     Label  \\\n",
       "5859        5892          5915   person1653_virus_2859.jpeg  Pnemonia   \n",
       "5875        5908          5931   person1633_virus_2829.jpeg  Pnemonia   \n",
       "5812        5844          5867         person1_virus_9.jpeg  Pnemonia   \n",
       "5272        5298          5321            IM-0006-0001.jpeg    Normal   \n",
       "5869        5902          5925   person1642_virus_2842.jpeg  Pnemonia   \n",
       "5732        5764          5787   person81_bacteria_395.jpeg  Pnemonia   \n",
       "5499        5529          5552   person1620_virus_2807.jpeg  Pnemonia   \n",
       "5276        5303          5326    NORMAL2-IM-0072-0001.jpeg    Normal   \n",
       "5571        5601          5624  person137_bacteria_655.jpeg  Pnemonia   \n",
       "5313        5340          5363            IM-0084-0001.jpeg    Normal   \n",
       "\n",
       "     Dataset_type Label_2_Virus_category Label_1_Virus_category  \n",
       "5859         TEST                    NaN                  Virus  \n",
       "5875         TEST                    NaN                  Virus  \n",
       "5812         TEST                    NaN                  Virus  \n",
       "5272         TEST                    NaN                    NaN  \n",
       "5869         TEST                    NaN                  Virus  \n",
       "5732         TEST                    NaN               bacteria  \n",
       "5499         TEST                    NaN                  Virus  \n",
       "5276         TEST                    NaN                    NaN  \n",
       "5571         TEST                    NaN               bacteria  \n",
       "5313         TEST                    NaN                    NaN  "
      ]
     },
     "execution_count": 39,
     "metadata": {},
     "output_type": "execute_result"
    }
   ],
   "source": [
    "train_data = df_mod[df_mod['Dataset_type'] == 'TRAIN']\n",
    "test_data = df_mod[df_mod['Dataset_type'] == 'TEST']\n",
    "assert train_data.shape[0] + test_data.shape[0] == df_mod.shape[0]\n",
    "print(f\"Shape of train data : {train_data.shape}\")\n",
    "print(f\"Shape of test data : {test_data.shape}\")\n",
    "test_data.sample(10)"
   ]
  },
  {
   "cell_type": "code",
   "execution_count": 40,
   "id": "91fb59a4-59dc-40c1-8457-08c46437299c",
   "metadata": {},
   "outputs": [
    {
     "data": {
      "image/png": "[encoded data removed]",
      "text/plain": [
       "<Figure size 1440x720 with 4 Axes>"
      ]
     },
     "metadata": {
      "needs_background": "light"
     },
     "output_type": "display_data"
    }
   ],
   "source": [
    "targets = ['Label', 'Label_2_Virus_category', 'Label_1_Virus_category']\n",
    "fig, ax = plt.subplots(2, 2, figsize=(20, 10))\n",
    "sns.countplot(x=targets[0], data=df_mod, ax=ax[0, 0])\n",
    "sns.countplot(x=targets[1], data=df_mod, ax=ax[0, 1])\n",
    "sns.countplot(x=targets[2], data=df_mod, ax=ax[1, 0])\n",
    "plt.show()"
   ]
  },
  {
   "cell_type": "markdown",
   "id": "5540d784-baed-468b-aa07-ec90eb1d723c",
   "metadata": {},
   "source": [
    "#### delete the data related to Stress-Smoking from the csv file and the images "
   ]
  },
  {
   "cell_type": "code",
   "execution_count": 41,
   "id": "40553ba6-5d35-4e1b-9095-6a013d5f3f91",
   "metadata": {},
   "outputs": [
    {
     "data": {
      "text/html": [
       "<div>\n",
       "<style scoped>\n",
       "    .dataframe tbody tr th:only-of-type {\n",
       "        vertical-align: middle;\n",
       "    }\n",
       "\n",
       "    .dataframe tbody tr th {\n",
       "        vertical-align: top;\n",
       "    }\n",
       "\n",
       "    .dataframe thead th {\n",
       "        text-align: right;\n",
       "    }\n",
       "</style>\n",
       "<table border=\"1\" class=\"dataframe\">\n",
       "  <thead>\n",
       "    <tr style=\"text-align: right;\">\n",
       "      <th></th>\n",
       "      <th>Unnamed: 0</th>\n",
       "      <th>Unnamed: 0.1</th>\n",
       "      <th>X_ray_image_name</th>\n",
       "      <th>Label</th>\n",
       "      <th>Dataset_type</th>\n",
       "      <th>Label_2_Virus_category</th>\n",
       "      <th>Label_1_Virus_category</th>\n",
       "    </tr>\n",
       "  </thead>\n",
       "  <tbody>\n",
       "    <tr>\n",
       "      <th>0</th>\n",
       "      <td>0</td>\n",
       "      <td>0</td>\n",
       "      <td>IM-0128-0001.jpeg</td>\n",
       "      <td>Normal</td>\n",
       "      <td>TRAIN</td>\n",
       "      <td>NaN</td>\n",
       "      <td>NaN</td>\n",
       "    </tr>\n",
       "    <tr>\n",
       "      <th>1</th>\n",
       "      <td>1</td>\n",
       "      <td>1</td>\n",
       "      <td>IM-0127-0001.jpeg</td>\n",
       "      <td>Normal</td>\n",
       "      <td>TRAIN</td>\n",
       "      <td>NaN</td>\n",
       "      <td>NaN</td>\n",
       "    </tr>\n",
       "    <tr>\n",
       "      <th>2</th>\n",
       "      <td>2</td>\n",
       "      <td>2</td>\n",
       "      <td>IM-0125-0001.jpeg</td>\n",
       "      <td>Normal</td>\n",
       "      <td>TRAIN</td>\n",
       "      <td>NaN</td>\n",
       "      <td>NaN</td>\n",
       "    </tr>\n",
       "    <tr>\n",
       "      <th>3</th>\n",
       "      <td>3</td>\n",
       "      <td>3</td>\n",
       "      <td>IM-0122-0001.jpeg</td>\n",
       "      <td>Normal</td>\n",
       "      <td>TRAIN</td>\n",
       "      <td>NaN</td>\n",
       "      <td>NaN</td>\n",
       "    </tr>\n",
       "    <tr>\n",
       "      <th>4</th>\n",
       "      <td>4</td>\n",
       "      <td>4</td>\n",
       "      <td>IM-0119-0001.jpeg</td>\n",
       "      <td>Normal</td>\n",
       "      <td>TRAIN</td>\n",
       "      <td>NaN</td>\n",
       "      <td>NaN</td>\n",
       "    </tr>\n",
       "    <tr>\n",
       "      <th>...</th>\n",
       "      <td>...</td>\n",
       "      <td>...</td>\n",
       "      <td>...</td>\n",
       "      <td>...</td>\n",
       "      <td>...</td>\n",
       "      <td>...</td>\n",
       "      <td>...</td>\n",
       "    </tr>\n",
       "    <tr>\n",
       "      <th>6115</th>\n",
       "      <td>238</td>\n",
       "      <td>239</td>\n",
       "      <td>bcb814aa</td>\n",
       "      <td>Pnemonia</td>\n",
       "      <td>TRAIN</td>\n",
       "      <td>COVID-19</td>\n",
       "      <td>Virus</td>\n",
       "    </tr>\n",
       "    <tr>\n",
       "      <th>6116</th>\n",
       "      <td>239</td>\n",
       "      <td>240</td>\n",
       "      <td>a8ac1969</td>\n",
       "      <td>Pnemonia</td>\n",
       "      <td>TRAIN</td>\n",
       "      <td>COVID-19</td>\n",
       "      <td>Virus</td>\n",
       "    </tr>\n",
       "    <tr>\n",
       "      <th>6117</th>\n",
       "      <td>240</td>\n",
       "      <td>241</td>\n",
       "      <td>76093afc</td>\n",
       "      <td>Pnemonia</td>\n",
       "      <td>TRAIN</td>\n",
       "      <td>COVID-19</td>\n",
       "      <td>Virus</td>\n",
       "    </tr>\n",
       "    <tr>\n",
       "      <th>6118</th>\n",
       "      <td>241</td>\n",
       "      <td>242</td>\n",
       "      <td>82a78c13</td>\n",
       "      <td>Pnemonia</td>\n",
       "      <td>TRAIN</td>\n",
       "      <td>COVID-19</td>\n",
       "      <td>Virus</td>\n",
       "    </tr>\n",
       "    <tr>\n",
       "      <th>6119</th>\n",
       "      <td>242</td>\n",
       "      <td>243</td>\n",
       "      <td>90986ce4</td>\n",
       "      <td>Pnemonia</td>\n",
       "      <td>TRAIN</td>\n",
       "      <td>COVID-19</td>\n",
       "      <td>Virus</td>\n",
       "    </tr>\n",
       "  </tbody>\n",
       "</table>\n",
       "<p>6118 rows × 7 columns</p>\n",
       "</div>"
      ],
      "text/plain": [
       "      Unnamed: 0  Unnamed: 0.1   X_ray_image_name     Label Dataset_type  \\\n",
       "0              0             0  IM-0128-0001.jpeg    Normal        TRAIN   \n",
       "1              1             1  IM-0127-0001.jpeg    Normal        TRAIN   \n",
       "2              2             2  IM-0125-0001.jpeg    Normal        TRAIN   \n",
       "3              3             3  IM-0122-0001.jpeg    Normal        TRAIN   \n",
       "4              4             4  IM-0119-0001.jpeg    Normal        TRAIN   \n",
       "...          ...           ...                ...       ...          ...   \n",
       "6115         238           239           bcb814aa  Pnemonia        TRAIN   \n",
       "6116         239           240           a8ac1969  Pnemonia        TRAIN   \n",
       "6117         240           241           76093afc  Pnemonia        TRAIN   \n",
       "6118         241           242           82a78c13  Pnemonia        TRAIN   \n",
       "6119         242           243           90986ce4  Pnemonia        TRAIN   \n",
       "\n",
       "     Label_2_Virus_category Label_1_Virus_category  \n",
       "0                       NaN                    NaN  \n",
       "1                       NaN                    NaN  \n",
       "2                       NaN                    NaN  \n",
       "3                       NaN                    NaN  \n",
       "4                       NaN                    NaN  \n",
       "...                     ...                    ...  \n",
       "6115               COVID-19                  Virus  \n",
       "6116               COVID-19                  Virus  \n",
       "6117               COVID-19                  Virus  \n",
       "6118               COVID-19                  Virus  \n",
       "6119               COVID-19                  Virus  \n",
       "\n",
       "[6118 rows x 7 columns]"
      ]
     },
     "execution_count": 41,
     "metadata": {},
     "output_type": "execute_result"
    }
   ],
   "source": [
    "df_mod.drop(df_mod.index[(df_mod[\"Label_1_Virus_category\"] == \"Stress-Smoking\")],axis=0,inplace=True)\n",
    "df_mod"
   ]
  },
  {
   "cell_type": "code",
   "execution_count": 42,
   "id": "56fed0e0-286d-4556-875f-42e0b0c7295b",
   "metadata": {},
   "outputs": [
    {
     "data": {
      "image/png": "[encoded data removed]",
      "text/plain": [
       "<Figure size 1440x720 with 4 Axes>"
      ]
     },
     "metadata": {
      "needs_background": "light"
     },
     "output_type": "display_data"
    }
   ],
   "source": [
    "targets = ['Label', 'Label_2_Virus_category', 'Label_1_Virus_category']\n",
    "fig, ax = plt.subplots(2, 2, figsize=(20, 10))\n",
    "sns.countplot(x=targets[0], data=df_mod, ax=ax[0, 0])\n",
    "sns.countplot(x=targets[1], data=df_mod, ax=ax[0, 1])\n",
    "sns.countplot(x=targets[2], data=df_mod, ax=ax[1, 0])\n",
    "plt.show()"
   ]
  },
  {
   "cell_type": "code",
   "execution_count": 43,
   "id": "98b178f5-ab81-4003-a8b5-97ece1c9330d",
   "metadata": {},
   "outputs": [],
   "source": [
    "df_mod.to_csv(\"last_mod.csv\")"
   ]
  },
  {
   "cell_type": "markdown",
   "id": "8c3061ea-6983-4029-b2e7-0ea7b85c2d12",
   "metadata": {},
   "source": [
    "# Classify the data into sub-folders"
   ]
  },
  {
   "cell_type": "code",
   "execution_count": 44,
   "id": "e70ee52e-367f-444a-a37f-f486ff98ff08",
   "metadata": {},
   "outputs": [],
   "source": [
    "import shutil\n",
    "from tqdm import tqdm"
   ]
  },
  {
   "cell_type": "code",
   "execution_count": 56,
   "id": "ed373866-2415-4759-a6aa-217af3fceb85",
   "metadata": {},
   "outputs": [
    {
     "data": {
      "text/plain": [
       "'/mnt/c/Users/user/Doctoraizer'"
      ]
     },
     "execution_count": 56,
     "metadata": {},
     "output_type": "execute_result"
    }
   ],
   "source": [
    "os.getcwd()"
   ]
  },
  {
   "cell_type": "code",
   "execution_count": 57,
   "id": "7f2b9fd4-cc97-4a0d-b622-11ed9b6e0bf0",
   "metadata": {},
   "outputs": [],
   "source": [
    "df_mod_2=pd.read_csv('last_mod.csv')\n",
    "train_data = df_mod_2[df_mod_2['Dataset_type'] == 'TRAIN']\n",
    "test_data = df_mod_2[df_mod_2['Dataset_type'] == 'TEST']"
   ]
  },
  {
   "cell_type": "code",
   "execution_count": 58,
   "id": "e9ca55d0-92b9-43be-a0c7-6500a4b65782",
   "metadata": {},
   "outputs": [],
   "source": [
    "def create_directory():\n",
    "    try:\n",
    "        os.makedirs('Coronahack-Chest-XRay-Dataset/train/Pnemonia')\n",
    "        os.makedirs('Coronahack-Chest-XRay-Dataset/train/Normal')\n",
    "        os.makedirs('Coronahack-Chest-XRay-Dataset/test/Pnemonia')\n",
    "        os.makedirs('Coronahack-Chest-XRay-Dataset/test/Normal')\n",
    "    except:\n",
    "        pass\n",
    "\n",
    "create_directory()"
   ]
  },
  {
   "cell_type": "code",
   "execution_count": 59,
   "id": "24bd4463-ca99-429b-8644-ebaa1df523c8",
   "metadata": {
    "tags": []
   },
   "outputs": [
    {
     "name": "stderr",
     "output_type": "stream",
     "text": [
      "100%|██████████| 4154/4154 [07:17<00:00,  9.50it/s]\n"
     ]
    }
   ],
   "source": [
    "# Pnemonia\n",
    "to_train_pnemonia = 'Coronahack-Chest-XRay-Dataset/train/Pnemonia'\n",
    "source_train = 'Coronahack-Chest-XRay-Dataset/train'\n",
    "move_train_pnemonia = train_data[train_data.Label == 'Pnemonia']['X_ray_image_name'].values\n",
    "\n",
    "for i in tqdm(move_train_pnemonia):\n",
    "    if i.count('jpeg')==0 and i.count('jpg')==0 and i.count('png')==0:\n",
    "         path = os.path.join(source_train,i+'.png')\n",
    "    elif i=='5.63E+09':\n",
    "        print ('wrong')     \n",
    "    else :\n",
    "        path = os.path.join(source_train,i)\n",
    "    shutil.copy(path,to_train_pnemonia)\n",
    "\n"
   ]
  },
  {
   "cell_type": "code",
   "execution_count": 60,
   "id": "8f4a8da6-8ef5-4a33-afb3-3709c4147534",
   "metadata": {},
   "outputs": [
    {
     "name": "stderr",
     "output_type": "stream",
     "text": [
      "100%|██████████| 1341/1341 [05:08<00:00,  4.34it/s]\n"
     ]
    }
   ],
   "source": [
    "# Normal\n",
    "to_train_normal = 'Coronahack-Chest-XRay-Dataset/train/Normal/'\n",
    "move_train_normal = train_data[train_data.Label == 'Normal']['X_ray_image_name'].values\n",
    "for i in tqdm(move_train_normal):\n",
    "    path = os.path.join(source_train,i)\n",
    "    shutil.copy(path,to_train_normal)"
   ]
  },
  {
   "cell_type": "code",
   "execution_count": 61,
   "id": "c1541b4c-7ad2-425b-9c5b-6e006cba429f",
   "metadata": {},
   "outputs": [
    {
     "name": "stderr",
     "output_type": "stream",
     "text": [
      "100%|██████████| 387/387 [00:40<00:00,  9.57it/s]\n"
     ]
    }
   ],
   "source": [
    "#for test data\n",
    "\n",
    "# Pnemonia\n",
    "test_pnemonia = 'Coronahack-Chest-XRay-Dataset/test/Pnemonia'\n",
    "source_test = \"Coronahack-Chest-XRay-Dataset/test\"\n",
    "move_test_pnemonia = test_data[test_data['Label'] == 'Pnemonia']['X_ray_image_name'].values                               \n",
    "for i in tqdm(move_test_pnemonia):\n",
    "    if str(i).count('jpeg')==0 & str(i).count('jpg')==0:\n",
    "        i+='.png'\n",
    "    path2 = os.path.join(source_test, i)\n",
    "    shutil.copy(path2, test_pnemonia)\n",
    "\n"
   ]
  },
  {
   "cell_type": "code",
   "execution_count": 62,
   "id": "cd52c1f1-8b2a-41c9-ad63-34524b66f777",
   "metadata": {},
   "outputs": [
    {
     "name": "stderr",
     "output_type": "stream",
     "text": [
      "100%|██████████| 230/230 [00:30<00:00,  7.60it/s]\n"
     ]
    }
   ],
   "source": [
    "# Normal\n",
    "test_normal = 'Coronahack-Chest-XRay-Dataset/test/Normal/'\n",
    "move_test_normal = test_data[test_data.Label == 'Normal']['X_ray_image_name'].values\n",
    "for i in tqdm(move_test_normal):\n",
    "    path3 = os.path.join(source_test, i)\n",
    "    shutil.copy(path3, test_normal)"
   ]
  },
  {
   "cell_type": "code",
   "execution_count": 63,
   "id": "bdf2a436-f076-4fad-afc3-b56a86ef7d67",
   "metadata": {},
   "outputs": [],
   "source": [
    "def create_sub_directory():\n",
    "    try:\n",
    "        os.makedirs('Coronahack-Chest-XRay-Dataset/train/Pnemonia/Virus')\n",
    "        os.makedirs('Coronahack-Chest-XRay-Dataset/train/Pnemonia/bacteria')\n",
    "        os.makedirs('Coronahack-Chest-XRay-Dataset/test/Pnemonia/Virus')\n",
    "        os.makedirs('Coronahack-Chest-XRay-Dataset/test/Pnemonia/bacteria')\n",
    "    except:\n",
    "        pass\n",
    "\n",
    "create_sub_directory()"
   ]
  },
  {
   "cell_type": "code",
   "execution_count": null,
   "id": "461883a4-05d1-4945-8672-ea764cbc5cff",
   "metadata": {},
   "outputs": [],
   "source": [
    "#bacteria\n",
    "train_pnemonia_bacteria = 'Coronahack-Chest-XRay-Dataset/train/Pnemonia/bacteria'\n",
    "source_train = \"Coronahack-Chest-XRay-Dataset/train/Pnemonia\"\n",
    "move_train_pnemonia_bacteria = train_data[train_data['Label_1_Virus_category'] == 'bacteria']['X_ray_image_name'].values\n",
    "for i in tqdm(move_train_pnemonia_bacteria):\n",
    "    if i.count('jpeg')==0 and i.count('jpg')==0 and i.count('png')==0:\n",
    "         path = os.path.join(source_train,i+'.png')\n",
    "    else :\n",
    "        path = os.path.join(source_train,i)\n",
    "    shutil.copy(path,train_pnemonia_bacteria)"
   ]
  },
  {
   "cell_type": "code",
   "execution_count": null,
   "id": "98daa3a1-4d94-4ddc-9576-256b8026fe02",
   "metadata": {},
   "outputs": [],
   "source": [
    "#Virus\n",
    "train_pnemonia_virus = 'Coronahack-Chest-XRay-Dataset/train/Pnemonia/Virus'\n",
    "source_train= \"Coronahack-Chest-XRay-Dataset/train/Pnemonia\"\n",
    "move_train_pnemonia_virus = train_data[train_data['Label_1_Virus_category'] == 'Virus']['X_ray_image_name'].values\n",
    "for i in tqdm(move_train_pnemonia_virus):\n",
    "    if i.count('jpeg')==0 and i.count('jpg')==0 and i.count('png')==0 :\n",
    "         path = os.path.join(source_train,i+'.png')\n",
    "    else :\n",
    "        path = os.path.join(source_train,i)\n",
    "    shutil.copy(path,train_pnemonia_virus) "
   ]
  },
  {
   "cell_type": "code",
   "execution_count": null,
   "id": "5b43c9f9-a4d1-4324-aa34-78868f461e0c",
   "metadata": {},
   "outputs": [],
   "source": [
    "#bacteria1_test\n",
    "test_pnemonia_bacteria = 'Coronahack-Chest-XRay-Dataset/test/Pnemonia/bacteria'\n",
    "source_test = \"Coronahack-Chest-XRay-Dataset/test/Pnemonia\"\n",
    "move_test_pnemonia_bacteria = test_data[test_data['Label_1_Virus_category'] == 'bacteria']['X_ray_image_name'].values\n",
    "for i in move_test_pnemonia_bacteria:\n",
    "    if i.count('jpeg')==0 and i.count('jpg')==0 and i.count('png')==0 and i.count('.5.63E+09')==0:\n",
    "         path = os.path.join(source_test,i+'.png')\n",
    "    else :\n",
    "        path = os.path.join(source_test,i)\n",
    "    shutil.copy(path,test_pnemonia_bacteria)\n",
    "\n",
    "\n",
    "#Virus_test\n",
    "test_pnemonia_virus = 'Coronahack-Chest-XRay-Dataset/test/Pnemonia/Virus'\n",
    "source_test = \"Coronahack-Chest-XRay-Dataset/test/Pnemonia\"\n",
    "move_test_pnemonia_virus = test_data[test_data['Label_1_Virus_category'] == 'Virus']['X_ray_image_name'].values\n",
    "for i in move_test_pnemonia_virus:\n",
    "    if i.count('jpeg')==0 and i.count('jpg')==0 and i.count('png')==0 and i.count('.5.63E+09')==0:\n",
    "         path = os.path.join(source_test,i+'.png')\n",
    "    else :\n",
    "        path = os.path.join(source_test,i)\n",
    "    shutil.copy(path,test_pnemonia_virus) "
   ]
  },
  {
   "cell_type": "code",
   "execution_count": null,
   "id": "81bde74c-20f6-478b-afd2-a82e9c7f4b27",
   "metadata": {},
   "outputs": [],
   "source": [
    "def create_sub_virus_directory():\n",
    "    try:\n",
    "        os.makedirs('Coronahack-Chest-XRay-Dataset/train/Pnemonia/Virus/covid')\n",
    "        os.makedirs('Coronahack-Chest-XRay-Dataset/train/Pnemonia/Virus/sars')\n",
    "        os.makedirs('Coronahack-Chest-XRay-Dataset/test/Pnemonia/Virus/covid')\n",
    "        os.makedirs('Coronahack-Chest-XRay-Dataset/test/Pnemonia/Virus/sars')\n",
    "    except:\n",
    "        pass\n",
    "\n",
    "create_sub_virus_directory()"
   ]
  },
  {
   "cell_type": "code",
   "execution_count": null,
   "id": "a5890ae5-f5ba-4f3f-a2ed-d25c5d4c569a",
   "metadata": {},
   "outputs": [],
   "source": [
    "#covid\n",
    "train_pnemonia_covid = 'Coronahack-Chest-XRay-Dataset/train/Pnemonia/Virus/covid'\n",
    "source_train= 'Coronahack-Chest-XRay-Dataset/train/Pnemonia/Virus'\n",
    "move_train_pnemonia_covid = train_data[train_data['Label_2_Virus_category'] == 'COVID-19']['X_ray_image_name'].values\n",
    "for i in move_train_pnemonia_covid:\n",
    "    if i.count('jpeg')==0 and i.count('jpg')==0 and i.count('png')==0:\n",
    "         path = os.path.join(source_train,i+'.png')\n",
    "    else :\n",
    "        path = os.path.join(source_train,i)\n",
    "    shutil.copy(path,train_pnemonia_covid)\n",
    "\n",
    "#sars\n",
    "train_pnemonia_sars = 'Coronahack-Chest-XRay-Dataset/train/Pnemonia/Virus/sars'\n",
    "source_train = \"Coronahack-Chest-XRay-Dataset/train/Pnemonia/Virus\"\n",
    "move_train_pnemonia_sars = train_data[train_data['Label_2_Virus_category'] == 'SARS']['X_ray_image_name'].values\n",
    "for i in move_train_pnemonia_sars:\n",
    "    if i.count('jpeg')==0 and i.count('jpg')==0 and i.count('png')==0:\n",
    "         path = os.path.join(source_train,i+'.png')\n",
    "    else :\n",
    "        path = os.path.join(source_train,i)\n",
    "    shutil.copy(path,train_pnemonia_sars)"
   ]
  },
  {
   "cell_type": "code",
   "execution_count": null,
   "id": "2ccdfbb9-b7f7-4a20-b98e-a68ed38527d4",
   "metadata": {},
   "outputs": [],
   "source": [
    "#covid_test\n",
    "test_pnemonia_covid = 'Coronahack-Chest-XRay-Dataset/test/Pnemonia/Virus/covid'\n",
    "source_test= 'Coronahack-Chest-XRay-Dataset/test/Pnemonia/Virus'\n",
    "move_test_pnemonia_covid = test_data[test_data['Label_2_Virus_category'] == 'COVID-19']['X_ray_image_name'].values\n",
    "for i in tqdm(move_test_pnemonia_covid):\n",
    "    if i.count('jpeg')==0 and i.count('jpg')==0 and i.count('png')==0 and i.count('.5.63E+09')==0:\n",
    "         path = os.path.join(source_test,i+'.png')\n",
    "    else :\n",
    "        path = os.path.join(source_test,i)\n",
    "    shutil.copy(path,test_pnemonia_covid)\n",
    "\n",
    "#sars_test\n",
    "test_pnemonia_sars = 'Coronahack-Chest-XRay-Dataset/test/Pnemonia/Virus/sars'\n",
    "source_test = \"Coronahack-Chest-XRay-Dataset/test/Pnemonia/Virus\"\n",
    "move_test_pnemonia_sars = test_data[test_data['Label_2_Virus_category'] == 'SARS']['X_ray_image_name'].values\n",
    "for i in tqdm(move_test_pnemonia_sars):\n",
    "    if i.count('jpeg')==0 and i.count('jpg')==0 and i.count('png')==0 and i.count('.5.63E+09')==0:\n",
    "         path = os.path.join(source_test,i+'.png')\n",
    "    else :\n",
    "        path = os.path.join(source_test,i)\n",
    "    shutil.copy(path,test_pnemonia_sars)"
   ]
  },
  {
   "cell_type": "markdown",
   "id": "979b3334-45c7-4442-bc7f-468391ffc078",
   "metadata": {},
   "source": [
    "# Data augmentation"
   ]
  },
  {
   "cell_type": "code",
   "execution_count": null,
   "id": "f973eef8-de02-42d7-a8ed-422404a74921",
   "metadata": {},
   "outputs": [],
   "source": [
    "from keras.preprocessing.image import ImageDataGenerator\n",
    "from skimage import io"
   ]
  },
  {
   "cell_type": "code",
   "execution_count": null,
   "id": "cdeda02f-e839-4623-9282-ebe138b33c78",
   "metadata": {},
   "outputs": [],
   "source": [
    "import numpy as np\n",
    "from PIL import Image"
   ]
  },
  {
   "cell_type": "markdown",
   "id": "f4d8bae1-d446-4319-ad5c-4a3a030d3e01",
   "metadata": {},
   "source": [
    "# Befor you generate more than an image pay attention to : \n",
    "1- image size , you should generate images that are most similar to the original one \n",
    "use this code to check the sizes :\n",
    "```\n",
    "# image_5 = PIL.Image.open(\"try_augment/1-s2.0-S0140673620303706-fx1_lrg.jpg\")\n",
    "# width, height = image_5.size\n",
    "# print(width, height)\n",
    "\n",
    "```\n",
    "2-pay attention to the photos number you want : in for loop using i each one will generate that number \n",
    "for example you have 5 images , i breaks at 3 this mean you gonna have 4*5=20 images \n",
    "\n",
    "tutorial : https://www.youtube.com/watch?v=ccdssX4rIh8&t=965s\n"
   ]
  },
  {
   "cell_type": "code",
   "execution_count": null,
   "id": "65c1382a-a4c3-4dc2-8013-5bd6f0ac20d7",
   "metadata": {},
   "outputs": [],
   "source": [
    "data_gen=ImageDataGenerator(\n",
    "rotation_range=10,#random rotation\n",
    "width_shift_range=0.2,\n",
    "height_shift_range=0.2,\n",
    "shear_range=0.2,\n",
    "zoom_range=0.2,\n",
    "horizontal_flip=True,\n",
    "fill_mode='nearest',cval=1\n",
    ")\n"
   ]
  },
  {
   "cell_type": "code",
   "execution_count": null,
   "id": "da54b5c7-41a4-4717-b44a-bd85d5bd480e",
   "metadata": {},
   "outputs": [],
   "source": [
    "#Manually read each image and create an array to be supplied to datagen via flow method\n",
    "dataset = []\n",
    "image_directory = 'Coronahack-Chest-XRay-Dataset/train/Pnemonia/Virus/sars'\n",
    "SIZE = 128\n",
    "dataset = []\n",
    "my_images = os.listdir(image_directory)\n",
    "for i, image_name in enumerate(my_images):\n",
    "        image = io.imread(image_directory +'/'+ image_name)\n",
    "        image = Image.fromarray(image, 'RGB')\n",
    "        image = image.resize((2563,1148))    #IMAGE SIZE \n",
    "        dataset.append(np.array(image))\n",
    "x = np.array(dataset)\n",
    "i = 0\n",
    "for batch in data_gen.flow(x, batch_size=16,  \n",
    "                          save_to_dir='Coronahack-Chest-XRay-Dataset/train/Pnemonia/Virus/sars', \n",
    "                          save_prefix='aug', \n",
    "                          save_format='png'):\n",
    "    i += 1\n",
    "    if i > 2:\n",
    "        break  # otherwise the generator would loop indefinitely\n"
   ]
  },
  {
   "cell_type": "code",
   "execution_count": null,
   "id": "a41f90f6-531d-4c7f-8c35-944680bb9075",
   "metadata": {},
   "outputs": [],
   "source": []
  }
 ],
 "metadata": {
  "kernelspec": {
   "display_name": "Python 3",
   "language": "python",
   "name": "python3"
  },
  "language_info": {
   "codemirror_mode": {
    "name": "ipython",
    "version": 3
   },
   "file_extension": ".py",
   "mimetype": "text/x-python",
   "name": "python",
   "nbconvert_exporter": "python",
   "pygments_lexer": "ipython3",
   "version": "3.9.4"
  }
 },
 "nbformat": 4,
 "nbformat_minor": 5
}
