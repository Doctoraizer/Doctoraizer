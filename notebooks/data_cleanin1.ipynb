{
 "metadata": {
  "language_info": {
   "codemirror_mode": {
    "name": "ipython",
    "version": 3
   },
   "file_extension": ".py",
   "mimetype": "text/x-python",
   "name": "python",
   "nbconvert_exporter": "python",
   "pygments_lexer": "ipython3",
   "version": 3
  },
  "orig_nbformat": 4
 },
 "nbformat": 4,
 "nbformat_minor": 2,
 "cells": [
  {
   "cell_type": "code",
   "execution_count": null,
   "metadata": {},
   "outputs": [],
   "source": [
    "# this notebook was for the data cleaning(mahmoud did this notebook) "
   ]
  },
  {
   "cell_type": "code",
   "execution_count": null,
   "metadata": {},
   "outputs": [],
   "source": [
    "import numpy as np\n",
    "import matplotlib.pyplot as plt\n",
    "from keras.layers import Dense, Conv2D, MaxPool2D, Dropout, Flatten\n",
    "from keras.models import sequential \n",
    "from keras.preprocessing import image\n",
    "import glob\n",
    "import matplotlib.image as mpimg\n",
    "%matplotlib inline\n",
    "import os"
   ]
  },
  {
   "cell_type": "code",
   "execution_count": null,
   "metadata": {},
   "outputs": [],
   "source": [
    "import pandas as pd\n",
    "import shutil\n",
    "from tqdm import tqdm\n",
    "\n",
    "train_data = pd.read_csv(\"/content/drive/MyDrive/data/Chest_xray_Corona_Metadata.csv\")\n",
    "# summary = pd.read_csv(\"../input/coronahack-chest-xraydataset/Chest_xray_Corona_dataset_Summary.csv\")\n",
    "train_data.head()\n",
    "\n",
    "\n",
    "\n",
    "#COVID-19\n",
    "# to_train_pnemonia = '../working/train/Pnemonia/'\n",
    "source_train = '/content/drive/MyDrive/data/Coronahack-Chest-XRay-Dataset/Coronahack-Chest-XRay-Dataset/train'\n",
    "move_train_pnemonia = train_data[train_data.Label == 'Pnemonia']['X_ray_image_name'].values\n",
    "for i in tqdm(move_train_pnemonia):\n",
    "    path = os.path.join(source_train,i)\n",
    "#     print(path)\n",
    "#     shutil.copy(path,to_train_pnemonia)\n",
    "\n",
    "\n",
    "#Normal\n",
    "to_train_normal = '/content/drive/MyDrive/data/Coronahack-Chest-XRay-Dataset/Coronahack-Chest-XRay-Dataset/train'\n",
    "move_train_normal = train_data[train_data.Label == 'Normal']['X_ray_image_name'].values\n",
    "for i in tqdm(move_train_normal):\n",
    "    path = os.path.join(source_train,i)\n",
    "    # shutil.copy(path,to_train_normal)"
   ]
  },
  {
   "cell_type": "code",
   "execution_count": null,
   "metadata": {},
   "outputs": [],
   "source": [
    "df = pd.read_csv(\"/content/drive/MyDrive/data/Chest_xray_Corona_Metadata.csv\")\n",
    "# summary = pd.read_csv(\"../input/coronahack-chest-xraydataset/Chest_xray_Corona_dataset_Summary.csv\")\n",
    "df.head()"
   ]
  },
  {
   "cell_type": "code",
   "execution_count": null,
   "metadata": {},
   "outputs": [],
   "source": [
    "train_data = df[df['Dataset_type'] == 'TRAIN']\n",
    "test_data = df[df['Dataset_type'] == 'TEST']"
   ]
  },
  {
   "cell_type": "code",
   "execution_count": null,
   "metadata": {},
   "outputs": [],
   "source": [
    "def create_directory():\n",
    "    try:\n",
    "        os.makedirs('/content/drive/MyDrive/data/Coronahack-Chest-XRay-Dataset/Coronahack-Chest-XRay-Dataset/train/Pnemonia')\n",
    "        os.makedirs('/content/drive/MyDrive/data/Coronahack-Chest-XRay-Dataset/Coronahack-Chest-XRay-Dataset/train/Normal')\n",
    "        os.makedirs('/content/drive/MyDrive/data/Coronahack-Chest-XRay-Dataset/Coronahack-Chest-XRay-Dataset/test/Pnemonia')\n",
    "        os.makedirs('/content/drive/MyDrive/data/Coronahack-Chest-XRay-Dataset/Coronahack-Chest-XRay-Dataset/test/Normal')\n",
    "    except:\n",
    "        pass"
   ]
  },
  {
   "cell_type": "code",
   "execution_count": null,
   "metadata": {},
   "outputs": [],
   "source": [
    "test_data[test_data.Label == 'Pnemonia'].head()"
   ]
  },
  {
   "cell_type": "code",
   "execution_count": null,
   "metadata": {},
   "outputs": [],
   "source": [
    "create_directory()"
   ]
  },
  {
   "cell_type": "code",
   "execution_count": null,
   "metadata": {},
   "outputs": [],
   "source": [
    "#Normal\n",
    "train_normal = '/content/drive/MyDrive/data/Coronahack-Chest-XRay-Dataset/Coronahack-Chest-XRay-Dataset/train/Normal'\n",
    "move_train_normal = train_data[train_data.Label == 'Normal']['X_ray_image_name'].values\n",
    "for i in move_train_normal:\n",
    "    path = os.path.join(source_train,i)\n",
    "    shutil.copy(path,train_normal)\n",
    "\n",
    "\n",
    "\n",
    "#COVID\n",
    "train_pnemonia = '/content/drive/MyDrive/data/Coronahack-Chest-XRay-Dataset/Coronahack-Chest-XRay-Dataset/train/Pnemonia'\n",
    "source_train = \"/content/drive/MyDrive/data/Coronahack-Chest-XRay-Dataset/Coronahack-Chest-XRay-Dataset/train\"\n",
    "move_train_pnemonia = train_data[ train_data['Label'] == 'Pnemonia']['X_ray_image_name'].values\n",
    "for i in move_train_pnemonia:\n",
    "    path = os.path.join(source_train,i)\n",
    "    shutil.copy(path,train_pnemonia)\n",
    "   "
   ]
  },
  {
   "cell_type": "code",
   "execution_count": null,
   "metadata": {},
   "outputs": [],
   "source": []
  }
 ]
}